{
 "cells": [
  {
   "cell_type": "code",
   "execution_count": 1,
   "id": "italian-plaintiff",
   "metadata": {},
   "outputs": [
    {
     "name": "stderr",
     "output_type": "stream",
     "text": [
      "/home/selihadji/.virtualenvs/sorter/lib/python3.6/site-packages/geopandas/_compat.py:110: UserWarning: The Shapely GEOS version (3.8.0-CAPI-1.13.1 ) is incompatible with the GEOS version PyGEOS was compiled with (3.9.0-CAPI-1.16.2). Conversions between both will be slow.\n",
      "  shapely_geos_version, geos_capi_version_string\n"
     ]
    }
   ],
   "source": [
    "import geopandas as gpd\n",
    "import pandas as pd\n",
    "import numpy as np\n",
    "import matplotlib.pyplot as plt\n",
    "from datetime import datetime\n",
    "import calendar\n",
    "import folium\n",
    "import geopandas as gpd\n",
    "from pandas.plotting import register_matplotlib_converters\n",
    "register_matplotlib_converters()\n",
    "\n",
    "import math\n",
    "import folium\n",
    "import datetime\n",
    "from os import listdir\n",
    "from os.path import isfile, join\n",
    "\n",
    "from matplotlib import gridspec\n",
    "from matplotlib.backends.backend_pdf import PdfPages\n"
   ]
  },
  {
   "cell_type": "code",
   "execution_count": 2,
   "id": "present-lebanon",
   "metadata": {},
   "outputs": [],
   "source": [
    "#RCR = pd.read_csv('/home/selihadji/Documenti/papers/terremoti/dati_gov/Elenco dei Comuni Fuori Cratere da cui risultano perventue RCR.CSV', sep = ';')"
   ]
  },
  {
   "cell_type": "code",
   "execution_count": 3,
   "id": "coordinated-behavior",
   "metadata": {},
   "outputs": [],
   "source": [
    "#RP = pd.read_csv('/home/selihadji/Documenti/papers/terremoti/dati_gov/Ricostruzione Privata.CSV', sep = ';')"
   ]
  },
  {
   "cell_type": "code",
   "execution_count": 4,
   "id": "unable-alberta",
   "metadata": {},
   "outputs": [],
   "source": [
    "#sinte = pd.read_csv('/home/selihadji/Documenti/papers/terremoti/dati_gov/Sintesi della Ricostruzione nel Territorio.CSV', sep = ';')"
   ]
  },
  {
   "cell_type": "code",
   "execution_count": 5,
   "id": "quarterly-purpose",
   "metadata": {},
   "outputs": [],
   "source": [
    "#dist = pd.read_csv('/home/selihadji/Documenti/papers/terremoti/distance_from_epicenter2.csv')"
   ]
  },
  {
   "cell_type": "code",
   "execution_count": 6,
   "id": "comparable-commerce",
   "metadata": {},
   "outputs": [],
   "source": [
    "#sinte['RCR Presentate VS Attese tasso di copertura(%) '] = sinte['RCR Presentate VS Attese tasso di copertura(%) '].str.replace('%', '')\n",
    "#sinte['RCR Presentate VS Attese tasso di copertura(%) '] = sinte['RCR Presentate VS Attese tasso di copertura(%) '].str.replace(',', '.')\n",
    "#sinte['RCR Presentate VS Attese tasso di copertura(%) '] = pd.to_numeric(sinte['RCR Presentate VS Attese tasso di copertura(%) '])"
   ]
  },
  {
   "cell_type": "code",
   "execution_count": 7,
   "id": "coordinated-mobile",
   "metadata": {},
   "outputs": [],
   "source": [
    "#RP['DOMANDE / EDIFICI INAGIBILI DL'] = RP['DOMANDE / EDIFICI INAGIBILI DL'].str.replace('%', '')\n",
    "#RP['DOMANDE / EDIFICI INAGIBILI DL'] = RP['DOMANDE / EDIFICI INAGIBILI DL'].str.replace(',', '.')\n",
    "#RP['DOMANDE / EDIFICI INAGIBILI DL'] = pd.to_numeric(RP['DOMANDE / EDIFICI INAGIBILI DL'])"
   ]
  },
  {
   "cell_type": "code",
   "execution_count": 8,
   "id": "detected-windsor",
   "metadata": {},
   "outputs": [],
   "source": [
    "#RP['DOMANDE / EDIFICI INAGIBILI DL.1'] = RP['DOMANDE / EDIFICI INAGIBILI DL.1'].str.replace('%', '')\n",
    "##RP['DOMANDE / EDIFICI INAGIBILI DL.1'] = RP['DOMANDE / EDIFICI INAGIBILI DL.1'].str.replace(',', '.')\n",
    "#RP['DOMANDE / EDIFICI INAGIBILI DL.1'] = pd.to_numeric(RP['DOMANDE / EDIFICI INAGIBILI DL.1'])"
   ]
  },
  {
   "cell_type": "code",
   "execution_count": 9,
   "id": "flush-trade",
   "metadata": {},
   "outputs": [],
   "source": [
    "variaz_ = pd.read_csv('/home/selihadji/Documenti/papers/terremoti/variaz_phone.csv')"
   ]
  },
  {
   "cell_type": "code",
   "execution_count": 10,
   "id": "moral-psychiatry",
   "metadata": {},
   "outputs": [
    {
     "data": {
      "text/html": [
       "<div>\n",
       "<style scoped>\n",
       "    .dataframe tbody tr th:only-of-type {\n",
       "        vertical-align: middle;\n",
       "    }\n",
       "\n",
       "    .dataframe tbody tr th {\n",
       "        vertical-align: top;\n",
       "    }\n",
       "\n",
       "    .dataframe thead th {\n",
       "        text-align: right;\n",
       "    }\n",
       "</style>\n",
       "<table border=\"1\" class=\"dataframe\">\n",
       "  <thead>\n",
       "    <tr style=\"text-align: right;\">\n",
       "      <th></th>\n",
       "      <th>Comune</th>\n",
       "      <th>Cratere Centro Italia 2016</th>\n",
       "      <th>Variaz</th>\n",
       "    </tr>\n",
       "  </thead>\n",
       "  <tbody>\n",
       "    <tr>\n",
       "      <th>0</th>\n",
       "      <td>Abbateggio</td>\n",
       "      <td>0</td>\n",
       "      <td>14.463097</td>\n",
       "    </tr>\n",
       "    <tr>\n",
       "      <th>1</th>\n",
       "      <td>Acciano</td>\n",
       "      <td>0</td>\n",
       "      <td>14.871586</td>\n",
       "    </tr>\n",
       "    <tr>\n",
       "      <th>2</th>\n",
       "      <td>Accumoli</td>\n",
       "      <td>1</td>\n",
       "      <td>50.164385</td>\n",
       "    </tr>\n",
       "    <tr>\n",
       "      <th>3</th>\n",
       "      <td>Acquacanina</td>\n",
       "      <td>1</td>\n",
       "      <td>34.796726</td>\n",
       "    </tr>\n",
       "    <tr>\n",
       "      <th>4</th>\n",
       "      <td>Acqualagna</td>\n",
       "      <td>0</td>\n",
       "      <td>9.514810</td>\n",
       "    </tr>\n",
       "    <tr>\n",
       "      <th>...</th>\n",
       "      <td>...</td>\n",
       "      <td>...</td>\n",
       "      <td>...</td>\n",
       "    </tr>\n",
       "    <tr>\n",
       "      <th>658</th>\n",
       "      <td>Villa Santa Lucia degli Abruzzi</td>\n",
       "      <td>0</td>\n",
       "      <td>10.222365</td>\n",
       "    </tr>\n",
       "    <tr>\n",
       "      <th>659</th>\n",
       "      <td>Villamagna</td>\n",
       "      <td>0</td>\n",
       "      <td>4.337131</td>\n",
       "    </tr>\n",
       "    <tr>\n",
       "      <th>660</th>\n",
       "      <td>Visso</td>\n",
       "      <td>1</td>\n",
       "      <td>39.940610</td>\n",
       "    </tr>\n",
       "    <tr>\n",
       "      <th>661</th>\n",
       "      <td>Viterbo</td>\n",
       "      <td>0</td>\n",
       "      <td>7.166067</td>\n",
       "    </tr>\n",
       "    <tr>\n",
       "      <th>662</th>\n",
       "      <td>Vitorchiano</td>\n",
       "      <td>0</td>\n",
       "      <td>15.859289</td>\n",
       "    </tr>\n",
       "  </tbody>\n",
       "</table>\n",
       "<p>663 rows × 3 columns</p>\n",
       "</div>"
      ],
      "text/plain": [
       "                              Comune  Cratere Centro Italia 2016     Variaz\n",
       "0                         Abbateggio                           0  14.463097\n",
       "1                            Acciano                           0  14.871586\n",
       "2                           Accumoli                           1  50.164385\n",
       "3                        Acquacanina                           1  34.796726\n",
       "4                         Acqualagna                           0   9.514810\n",
       "..                               ...                         ...        ...\n",
       "658  Villa Santa Lucia degli Abruzzi                           0  10.222365\n",
       "659                       Villamagna                           0   4.337131\n",
       "660                            Visso                           1  39.940610\n",
       "661                          Viterbo                           0   7.166067\n",
       "662                      Vitorchiano                           0  15.859289\n",
       "\n",
       "[663 rows x 3 columns]"
      ]
     },
     "execution_count": 10,
     "metadata": {},
     "output_type": "execute_result"
    }
   ],
   "source": [
    "variaz_"
   ]
  },
  {
   "cell_type": "code",
   "execution_count": 11,
   "id": "rotary-percentage",
   "metadata": {},
   "outputs": [],
   "source": [
    "variaz = variaz_[variaz_['Cratere Centro Italia 2016'] == 1]"
   ]
  },
  {
   "cell_type": "code",
   "execution_count": 12,
   "id": "crude-amateur",
   "metadata": {},
   "outputs": [
    {
     "name": "stderr",
     "output_type": "stream",
     "text": [
      "/home/selihadji/.virtualenvs/sorter/lib/python3.6/site-packages/ipykernel_launcher.py:1: SettingWithCopyWarning: \n",
      "A value is trying to be set on a copy of a slice from a DataFrame.\n",
      "Try using .loc[row_indexer,col_indexer] = value instead\n",
      "\n",
      "See the caveats in the documentation: https://pandas.pydata.org/pandas-docs/stable/user_guide/indexing.html#returning-a-view-versus-a-copy\n",
      "  \"\"\"Entry point for launching an IPython kernel.\n"
     ]
    }
   ],
   "source": [
    "variaz['Comune'] = variaz['Comune'].str.lower()\n",
    "#RP['Comune'] = RP['Comune'].str.lower()\n",
    "#RCR['Comune'] = RCR['Comune'].str.lower()\n",
    "#sinte['Comune'] = sinte['Comune'].str.lower()\n",
    "#dist['Comune'] = dist['Comune'].str.lower()"
   ]
  },
  {
   "cell_type": "code",
   "execution_count": 13,
   "id": "constant-gnome",
   "metadata": {},
   "outputs": [],
   "source": [
    "#dataset = pd.merge(variaz, RP, on = 'Comune', how='left').merge(sinte, on='Comune').merge(dist,on='Comune')\n",
    "#dataset.drop(['Cratere Centro Italia 2016', 'PROVINCIA',  'PR','Amministrativi', 'Tecnici','Altro', 'TOT', 'Totale '], axis = 1, inplace = True)"
   ]
  },
  {
   "cell_type": "code",
   "execution_count": 14,
   "id": "original-pennsylvania",
   "metadata": {},
   "outputs": [],
   "source": [
    "#dataset.PROVINCIA.unique()"
   ]
  },
  {
   "cell_type": "code",
   "execution_count": 15,
   "id": "analyzed-context",
   "metadata": {},
   "outputs": [
    {
     "data": {
      "text/html": [
       "<div>\n",
       "<style scoped>\n",
       "    .dataframe tbody tr th:only-of-type {\n",
       "        vertical-align: middle;\n",
       "    }\n",
       "\n",
       "    .dataframe tbody tr th {\n",
       "        vertical-align: top;\n",
       "    }\n",
       "\n",
       "    .dataframe thead th {\n",
       "        text-align: right;\n",
       "    }\n",
       "</style>\n",
       "<table border=\"1\" class=\"dataframe\">\n",
       "  <thead>\n",
       "    <tr style=\"text-align: right;\">\n",
       "      <th></th>\n",
       "      <th>Comune</th>\n",
       "      <th>Cratere Centro Italia 2016</th>\n",
       "      <th>Variaz</th>\n",
       "    </tr>\n",
       "  </thead>\n",
       "  <tbody>\n",
       "    <tr>\n",
       "      <th>470</th>\n",
       "      <td>pievebovigliana</td>\n",
       "      <td>1</td>\n",
       "      <td>32.57768</td>\n",
       "    </tr>\n",
       "  </tbody>\n",
       "</table>\n",
       "</div>"
      ],
      "text/plain": [
       "              Comune  Cratere Centro Italia 2016    Variaz\n",
       "470  pievebovigliana                           1  32.57768"
      ]
     },
     "execution_count": 15,
     "metadata": {},
     "output_type": "execute_result"
    }
   ],
   "source": [
    "variaz[variaz['Comune'] == 'pievebovigliana']"
   ]
  },
  {
   "cell_type": "code",
   "execution_count": 16,
   "id": "laughing-stuart",
   "metadata": {},
   "outputs": [
    {
     "name": "stderr",
     "output_type": "stream",
     "text": [
      "/home/selihadji/.virtualenvs/sorter/lib/python3.6/site-packages/IPython/core/interactiveshell.py:3072: DtypeWarning: Columns (15) have mixed types.Specify dtype option on import or set low_memory=False.\n",
      "  interactivity=interactivity, compiler=compiler, result=result)\n"
     ]
    }
   ],
   "source": [
    "aida = pd.read_csv('/home/selihadji/Documenti/papers/terremoti/AIDA/aida_crateri2.csv')"
   ]
  },
  {
   "cell_type": "code",
   "execution_count": 17,
   "id": "central-hollow",
   "metadata": {},
   "outputs": [],
   "source": [
    "#aziende prima del terremoto attive fino al 2016\n",
    "def attive_2016(row):\n",
    "    if (row['costituzione_year'] <= 2015) and (row['Stato giuridico'] == 'Attiva' or row['Stato giuridico'] == 'Attiva (Amministrazione Controllata)'):\n",
    "        return 1\n",
    "    if row['Stato giuridico'] == 'Cessata (In liquidazione)' or row['Stato giuridico'] == 'Cessata (Fusione)' or row['Stato giuridico'] == 'Fallita'or row['Stato giuridico'] == 'In liquidazione' or row['Stato giuridico'] =='Cessata'or row['Stato giuridico'] =='Cessata (Chiusura per fallimento)'or row['Stato giuridico'] =='Cessata (In liquidazione)'or row['Stato giuridico'] == 'Cessata (Scissione)':\n",
    "        return 0\n",
    "    else:\n",
    "        return 2"
   ]
  },
  {
   "cell_type": "code",
   "execution_count": 18,
   "id": "brazilian-welsh",
   "metadata": {},
   "outputs": [],
   "source": [
    "aida.replace([np.inf, -np.inf], np.nan, inplace=True)\n",
    "aida['ATECO 2007 codice'].replace([np.inf, -np.inf, np.nan], 0, inplace=True)\n",
    "aida['ATECO 2007 codice'] = aida['ATECO 2007 codice'].astype(int).astype('string')\n",
    "m = aida['ATECO 2007 codice'].str.len().max()\n",
    "aida['ATECO 2007 codice'] = aida['ATECO 2007 codice'].str.rjust(m, '0')\n",
    "aida.loc[~(aida['Sede operativa - Comune'].isnull()) & (aida['Sede operativa - Comune'].str.lower() != aida['Indirizzo sede legale - Comune'].str.lower()), 'Comune'] = aida['Sede operativa - Comune'].str.title()\n",
    "ateco2007 = pd.read_csv('/home/selihadji/Documenti/papers/terremoti/Ateco2007.csv', sep=';')\n",
    "ateco2007['ateco_2_cifre'] = ateco2007['Codice Ateco 2007'].astype('str').str[0:2]\n",
    "aida['ateco_2_cifre'] = aida['ATECO 2007 codice'].astype('str').str[0:2]\n",
    "ateco2007['Codice Ateco 2007_len'] = ateco2007['Codice Ateco 2007'].str.len()\n",
    "ateco2007.columns = ['ateco_lettera','Codice Ateco 2007','Descrizione','ateco_2_cifre','Codice Ateco 2007_len']\n",
    "ateco_letter_2cifre  = ateco2007[ateco2007['Codice Ateco 2007_len'] == 2]\n",
    "aida_ateco = pd.merge(aida.astype('str') , ateco2007[ateco2007['Codice Ateco 2007_len'] == 2].astype('str') , how='inner', on='ateco_2_cifre')\n",
    "aida_ateco['year'] = pd.to_numeric(aida_ateco['year'], errors='coerce')\n",
    "aida_ateco['Anno di costituzione'] = aida_ateco['Anno di costituzione'].replace('10/08/1079', '10/08/1979')\n",
    "#ida_ateco[aida_ateco['Anno di costituzione'] == '10/08/1079']\n",
    "aida_ateco['Anno di costituzione'] = pd.to_datetime(aida_ateco['Anno di costituzione'], format='%d/%m/%Y')\n",
    "aida_ateco['costituzione_year'] = aida_ateco['Anno di costituzione'].dt.year\n",
    "aida_ateco['attive_2016'] = aida_ateco.apply(lambda row: attive_2016(row), axis=1)\n"
   ]
  },
  {
   "cell_type": "code",
   "execution_count": 19,
   "id": "imposed-probe",
   "metadata": {},
   "outputs": [],
   "source": [
    "imprese_ateco2016 = aida_ateco.groupby(['Comune', 'ateco_lettera'])['attive_2016'].sum().reset_index()\n",
    "imprese_ateco2016['Comune'] = imprese_ateco2016['Comune'].str.lower()\n",
    "imprese_ateco2016 = imprese_ateco2016.groupby(['Comune', 'ateco_lettera'])['attive_2016'].sum().reset_index()"
   ]
  },
  {
   "cell_type": "code",
   "execution_count": 20,
   "id": "clinical-scottish",
   "metadata": {},
   "outputs": [],
   "source": [
    "imprese_ateco2016_wide = imprese_ateco2016.pivot(index='Comune',columns='ateco_lettera')['attive_2016'].fillna(0).reset_index()\n",
    "imprese_ateco2016_wide.columns = ['Comune', 'A_num_impr', 'B_num_impr', 'C_num_impr', 'D_num_impr', 'E_num_impr', 'F_num_impr', 'G_num_impr', 'H_num_impr','I_num_impr', 'J_num_impr', 'K_num_impr', 'L_num_impr', 'M_num_impr', 'N_num_impr', 'O_num_impr', 'P_num_impr', 'Q_num_impr', 'R_num_impr', 'S_num_impr', 'U_num_impr','nan']"
   ]
  },
  {
   "cell_type": "code",
   "execution_count": 21,
   "id": "narrow-ranch",
   "metadata": {},
   "outputs": [],
   "source": [
    "aida_ateco['Dipendenti Ultimo anno disp.'] = pd.to_numeric(aida_ateco['Dipendenti Ultimo anno disp.'], errors='coerce')"
   ]
  },
  {
   "cell_type": "code",
   "execution_count": 22,
   "id": "industrial-international",
   "metadata": {},
   "outputs": [
    {
     "name": "stderr",
     "output_type": "stream",
     "text": [
      "/home/selihadji/.virtualenvs/sorter/lib/python3.6/site-packages/ipykernel_launcher.py:2: SettingWithCopyWarning: \n",
      "A value is trying to be set on a copy of a slice from a DataFrame.\n",
      "Try using .loc[row_indexer,col_indexer] = value instead\n",
      "\n",
      "See the caveats in the documentation: https://pandas.pydata.org/pandas-docs/stable/user_guide/indexing.html#returning-a-view-versus-a-copy\n",
      "  \n"
     ]
    }
   ],
   "source": [
    "aida_2016 = aida_ateco[aida_ateco['attive_2016'] == 1]\n",
    "aida_2016['Comune'] = aida_2016['Comune'].str.lower()\n",
    "dip_2016 = aida_2016.groupby(['Comune'])['Dipendenti Ultimo anno disp.'].sum().reset_index()\n",
    "dip_2016.columns = ['Comune', 'tot_dip']"
   ]
  },
  {
   "cell_type": "code",
   "execution_count": 23,
   "id": "cheap-rainbow",
   "metadata": {},
   "outputs": [],
   "source": [
    "dataset = pd.merge(imprese_ateco2016_wide, dip_2016, how='outer').fillna(0)"
   ]
  },
  {
   "cell_type": "code",
   "execution_count": 24,
   "id": "intellectual-hawaiian",
   "metadata": {},
   "outputs": [],
   "source": [
    "altim = pd.read_csv('/home/selihadji/Documenti/papers/terremoti/Elab_Altimetrie_DEM.csv', sep=';')"
   ]
  },
  {
   "cell_type": "code",
   "execution_count": 25,
   "id": "manufactured-cassette",
   "metadata": {},
   "outputs": [],
   "source": [
    "altim['NOME'] = altim['NOME'].str.lower()"
   ]
  },
  {
   "cell_type": "code",
   "execution_count": 28,
   "id": "valid-bobby",
   "metadata": {},
   "outputs": [],
   "source": [
    "dataset2 = pd.merge(dataset, altim, how='left', left_on = 'Comune', right_on='NOME')"
   ]
  },
  {
   "cell_type": "code",
   "execution_count": 29,
   "id": "congressional-mistake",
   "metadata": {},
   "outputs": [],
   "source": [
    "dataset3 = pd.merge(variaz, dataset2, how='left')"
   ]
  },
  {
   "cell_type": "code",
   "execution_count": 30,
   "id": "brazilian-gathering",
   "metadata": {},
   "outputs": [],
   "source": [
    "dataset3 = dataset3.fillna(0)"
   ]
  },
  {
   "cell_type": "code",
   "execution_count": 31,
   "id": "distinguished-coach",
   "metadata": {},
   "outputs": [
    {
     "data": {
      "text/html": [
       "<div>\n",
       "<style scoped>\n",
       "    .dataframe tbody tr th:only-of-type {\n",
       "        vertical-align: middle;\n",
       "    }\n",
       "\n",
       "    .dataframe tbody tr th {\n",
       "        vertical-align: top;\n",
       "    }\n",
       "\n",
       "    .dataframe thead th {\n",
       "        text-align: right;\n",
       "    }\n",
       "</style>\n",
       "<table border=\"1\" class=\"dataframe\">\n",
       "  <thead>\n",
       "    <tr style=\"text-align: right;\">\n",
       "      <th></th>\n",
       "      <th>Comune</th>\n",
       "      <th>Cratere Centro Italia 2016</th>\n",
       "      <th>Variaz</th>\n",
       "      <th>A_num_impr</th>\n",
       "      <th>B_num_impr</th>\n",
       "      <th>C_num_impr</th>\n",
       "      <th>D_num_impr</th>\n",
       "      <th>E_num_impr</th>\n",
       "      <th>F_num_impr</th>\n",
       "      <th>G_num_impr</th>\n",
       "      <th>...</th>\n",
       "      <th>COD_PRO</th>\n",
       "      <th>PRO_COM</th>\n",
       "      <th>NOME</th>\n",
       "      <th>SUPERFICIE (in KMQ)</th>\n",
       "      <th>ALT_MIN</th>\n",
       "      <th>ALT_MAX</th>\n",
       "      <th>RANGE</th>\n",
       "      <th>MEDIA</th>\n",
       "      <th>MEDIANA</th>\n",
       "      <th>STD</th>\n",
       "    </tr>\n",
       "  </thead>\n",
       "  <tbody>\n",
       "    <tr>\n",
       "      <th>91</th>\n",
       "      <td>pievebovigliana</td>\n",
       "      <td>1</td>\n",
       "      <td>32.57768</td>\n",
       "      <td>0.0</td>\n",
       "      <td>0.0</td>\n",
       "      <td>0.0</td>\n",
       "      <td>0.0</td>\n",
       "      <td>0.0</td>\n",
       "      <td>0.0</td>\n",
       "      <td>0.0</td>\n",
       "      <td>...</td>\n",
       "      <td>0.0</td>\n",
       "      <td>0.0</td>\n",
       "      <td>0</td>\n",
       "      <td>0.0</td>\n",
       "      <td>0.0</td>\n",
       "      <td>0.0</td>\n",
       "      <td>0.0</td>\n",
       "      <td>0.0</td>\n",
       "      <td>0.0</td>\n",
       "      <td>0.0</td>\n",
       "    </tr>\n",
       "  </tbody>\n",
       "</table>\n",
       "<p>1 rows × 36 columns</p>\n",
       "</div>"
      ],
      "text/plain": [
       "             Comune  Cratere Centro Italia 2016    Variaz  A_num_impr  \\\n",
       "91  pievebovigliana                           1  32.57768         0.0   \n",
       "\n",
       "    B_num_impr  C_num_impr  D_num_impr  E_num_impr  F_num_impr  G_num_impr  \\\n",
       "91         0.0         0.0         0.0         0.0         0.0         0.0   \n",
       "\n",
       "    ...  COD_PRO  PRO_COM  NOME  SUPERFICIE (in KMQ)  ALT_MIN  ALT_MAX  RANGE  \\\n",
       "91  ...      0.0      0.0     0                  0.0      0.0      0.0    0.0   \n",
       "\n",
       "    MEDIA  MEDIANA  STD  \n",
       "91    0.0      0.0  0.0  \n",
       "\n",
       "[1 rows x 36 columns]"
      ]
     },
     "execution_count": 31,
     "metadata": {},
     "output_type": "execute_result"
    }
   ],
   "source": [
    "dataset3[dataset3['Comune'] == 'pievebovigliana']"
   ]
  },
  {
   "cell_type": "code",
   "execution_count": 32,
   "id": "legal-rubber",
   "metadata": {},
   "outputs": [],
   "source": [
    "X = dataset3[['Comune', \n",
    " 'F_num_impr',\n",
    " 'G_num_impr',\n",
    " 'I_num_impr',\n",
    " 'M_num_impr',\n",
    " 'N_num_impr',\n",
    "# 'Distance_from_epicenter',\n",
    " 'tot_dip',\n",
    " 'COD_PRO',\n",
    " 'PRO_COM',\n",
    " 'MEDIA',\n",
    " 'STD',]]\n",
    "X = X.replace(np.inf, np.nan)\n",
    "#X['Distance_from_epicenter'] = X['Distance_from_epicenter'] * -1\n",
    "X = X.fillna(0)\n",
    "X = X.set_index('Comune')"
   ]
  },
  {
   "cell_type": "markdown",
   "id": "allied-jenny",
   "metadata": {},
   "source": [
    "## REGRESSION"
   ]
  },
  {
   "cell_type": "code",
   "execution_count": 33,
   "id": "protected-happening",
   "metadata": {},
   "outputs": [],
   "source": [
    "import statsmodels.api as sm"
   ]
  },
  {
   "cell_type": "code",
   "execution_count": 34,
   "id": "modular-footage",
   "metadata": {},
   "outputs": [],
   "source": [
    "#X = sm.add_constant(X)\n",
    "y = dataset3['Variaz']\n",
    "model = sm.OLS(y.values, X.values).fit() ## sm.OLS(output, input)\n",
    "predictions = model.predict(X.values)"
   ]
  },
  {
   "cell_type": "code",
   "execution_count": 35,
   "id": "generic-uganda",
   "metadata": {},
   "outputs": [
    {
     "data": {
      "text/html": [
       "<table class=\"simpletable\">\n",
       "<caption>OLS Regression Results</caption>\n",
       "<tr>\n",
       "  <th>Dep. Variable:</th>            <td>y</td>        <th>  R-squared (uncentered):</th>      <td>   0.604</td>\n",
       "</tr>\n",
       "<tr>\n",
       "  <th>Model:</th>                   <td>OLS</td>       <th>  Adj. R-squared (uncentered):</th> <td>   0.572</td>\n",
       "</tr>\n",
       "<tr>\n",
       "  <th>Method:</th>             <td>Least Squares</td>  <th>  F-statistic:       </th>          <td>   18.48</td>\n",
       "</tr>\n",
       "<tr>\n",
       "  <th>Date:</th>             <td>Mon, 22 Aug 2022</td> <th>  Prob (F-statistic):</th>          <td>3.99e-20</td>\n",
       "</tr>\n",
       "<tr>\n",
       "  <th>Time:</th>                 <td>15:06:25</td>     <th>  Log-Likelihood:    </th>          <td> -524.83</td>\n",
       "</tr>\n",
       "<tr>\n",
       "  <th>No. Observations:</th>      <td>   131</td>      <th>  AIC:               </th>          <td>   1070.</td>\n",
       "</tr>\n",
       "<tr>\n",
       "  <th>Df Residuals:</th>          <td>   121</td>      <th>  BIC:               </th>          <td>   1098.</td>\n",
       "</tr>\n",
       "<tr>\n",
       "  <th>Df Model:</th>              <td>    10</td>      <th>                     </th>              <td> </td>   \n",
       "</tr>\n",
       "<tr>\n",
       "  <th>Covariance Type:</th>      <td>nonrobust</td>    <th>                     </th>              <td> </td>   \n",
       "</tr>\n",
       "</table>\n",
       "<table class=\"simpletable\">\n",
       "<tr>\n",
       "   <td></td>      <th>coef</th>     <th>std err</th>      <th>t</th>      <th>P>|t|</th>  <th>[0.025</th>    <th>0.975]</th>  \n",
       "</tr>\n",
       "<tr>\n",
       "  <th>x1</th>  <td>   -0.0391</td> <td>    0.130</td> <td>   -0.301</td> <td> 0.764</td> <td>   -0.296</td> <td>    0.218</td>\n",
       "</tr>\n",
       "<tr>\n",
       "  <th>x2</th>  <td>   -0.0506</td> <td>    0.113</td> <td>   -0.449</td> <td> 0.654</td> <td>   -0.274</td> <td>    0.173</td>\n",
       "</tr>\n",
       "<tr>\n",
       "  <th>x3</th>  <td>    0.1191</td> <td>    0.177</td> <td>    0.675</td> <td> 0.501</td> <td>   -0.230</td> <td>    0.469</td>\n",
       "</tr>\n",
       "<tr>\n",
       "  <th>x4</th>  <td>    0.2746</td> <td>    0.265</td> <td>    1.037</td> <td> 0.302</td> <td>   -0.249</td> <td>    0.799</td>\n",
       "</tr>\n",
       "<tr>\n",
       "  <th>x5</th>  <td>   -0.3863</td> <td>    0.497</td> <td>   -0.777</td> <td> 0.439</td> <td>   -1.370</td> <td>    0.598</td>\n",
       "</tr>\n",
       "<tr>\n",
       "  <th>x6</th>  <td>   -0.0007</td> <td>    0.003</td> <td>   -0.221</td> <td> 0.826</td> <td>   -0.007</td> <td>    0.006</td>\n",
       "</tr>\n",
       "<tr>\n",
       "  <th>x7</th>  <td> -108.4503</td> <td>   62.221</td> <td>   -1.743</td> <td> 0.084</td> <td> -231.634</td> <td>   14.734</td>\n",
       "</tr>\n",
       "<tr>\n",
       "  <th>x8</th>  <td>    0.1085</td> <td>    0.062</td> <td>    1.744</td> <td> 0.084</td> <td>   -0.015</td> <td>    0.232</td>\n",
       "</tr>\n",
       "<tr>\n",
       "  <th>x9</th>  <td>    0.0308</td> <td>    0.006</td> <td>    5.244</td> <td> 0.000</td> <td>    0.019</td> <td>    0.042</td>\n",
       "</tr>\n",
       "<tr>\n",
       "  <th>x10</th> <td>   -0.0426</td> <td>    0.018</td> <td>   -2.357</td> <td> 0.020</td> <td>   -0.078</td> <td>   -0.007</td>\n",
       "</tr>\n",
       "</table>\n",
       "<table class=\"simpletable\">\n",
       "<tr>\n",
       "  <th>Omnibus:</th>       <td>64.781</td> <th>  Durbin-Watson:     </th> <td>   2.029</td>\n",
       "</tr>\n",
       "<tr>\n",
       "  <th>Prob(Omnibus):</th> <td> 0.000</td> <th>  Jarque-Bera (JB):  </th> <td> 272.885</td>\n",
       "</tr>\n",
       "<tr>\n",
       "  <th>Skew:</th>          <td> 1.754</td> <th>  Prob(JB):          </th> <td>5.54e-60</td>\n",
       "</tr>\n",
       "<tr>\n",
       "  <th>Kurtosis:</th>      <td> 9.139</td> <th>  Cond. No.          </th> <td>3.12e+06</td>\n",
       "</tr>\n",
       "</table><br/><br/>Notes:<br/>[1] R² is computed without centering (uncentered) since the model does not contain a constant.<br/>[2] Standard Errors assume that the covariance matrix of the errors is correctly specified.<br/>[3] The condition number is large, 3.12e+06. This might indicate that there are<br/>strong multicollinearity or other numerical problems."
      ],
      "text/plain": [
       "<class 'statsmodels.iolib.summary.Summary'>\n",
       "\"\"\"\n",
       "                                 OLS Regression Results                                \n",
       "=======================================================================================\n",
       "Dep. Variable:                      y   R-squared (uncentered):                   0.604\n",
       "Model:                            OLS   Adj. R-squared (uncentered):              0.572\n",
       "Method:                 Least Squares   F-statistic:                              18.48\n",
       "Date:                Mon, 22 Aug 2022   Prob (F-statistic):                    3.99e-20\n",
       "Time:                        15:06:25   Log-Likelihood:                         -524.83\n",
       "No. Observations:                 131   AIC:                                      1070.\n",
       "Df Residuals:                     121   BIC:                                      1098.\n",
       "Df Model:                          10                                                  \n",
       "Covariance Type:            nonrobust                                                  \n",
       "==============================================================================\n",
       "                 coef    std err          t      P>|t|      [0.025      0.975]\n",
       "------------------------------------------------------------------------------\n",
       "x1            -0.0391      0.130     -0.301      0.764      -0.296       0.218\n",
       "x2            -0.0506      0.113     -0.449      0.654      -0.274       0.173\n",
       "x3             0.1191      0.177      0.675      0.501      -0.230       0.469\n",
       "x4             0.2746      0.265      1.037      0.302      -0.249       0.799\n",
       "x5            -0.3863      0.497     -0.777      0.439      -1.370       0.598\n",
       "x6            -0.0007      0.003     -0.221      0.826      -0.007       0.006\n",
       "x7          -108.4503     62.221     -1.743      0.084    -231.634      14.734\n",
       "x8             0.1085      0.062      1.744      0.084      -0.015       0.232\n",
       "x9             0.0308      0.006      5.244      0.000       0.019       0.042\n",
       "x10           -0.0426      0.018     -2.357      0.020      -0.078      -0.007\n",
       "==============================================================================\n",
       "Omnibus:                       64.781   Durbin-Watson:                   2.029\n",
       "Prob(Omnibus):                  0.000   Jarque-Bera (JB):              272.885\n",
       "Skew:                           1.754   Prob(JB):                     5.54e-60\n",
       "Kurtosis:                       9.139   Cond. No.                     3.12e+06\n",
       "==============================================================================\n",
       "\n",
       "Notes:\n",
       "[1] R² is computed without centering (uncentered) since the model does not contain a constant.\n",
       "[2] Standard Errors assume that the covariance matrix of the errors is correctly specified.\n",
       "[3] The condition number is large, 3.12e+06. This might indicate that there are\n",
       "strong multicollinearity or other numerical problems.\n",
       "\"\"\""
      ]
     },
     "execution_count": 35,
     "metadata": {},
     "output_type": "execute_result"
    }
   ],
   "source": [
    "model.summary()"
   ]
  },
  {
   "cell_type": "markdown",
   "id": "geological-speech",
   "metadata": {},
   "source": [
    "### Factor Analysis"
   ]
  },
  {
   "cell_type": "code",
   "execution_count": 36,
   "id": "opening-content",
   "metadata": {},
   "outputs": [],
   "source": [
    "from factor_analyzer import FactorAnalyzer"
   ]
  },
  {
   "cell_type": "code",
   "execution_count": 37,
   "id": "blessed-accounting",
   "metadata": {},
   "outputs": [
    {
     "data": {
      "image/png": "[encoded data removed]",
      "text/plain": [
       "<Figure size 432x288 with 1 Axes>"
      ]
     },
     "metadata": {
      "needs_background": "light"
     },
     "output_type": "display_data"
    }
   ],
   "source": [
    "from factor_analyzer import FactorAnalyzer\n",
    "fa = FactorAnalyzer(rotation = 'Varimax',impute = \"drop\",n_factors=X.shape[1])\n",
    "fa.fit(X)\n",
    "ev,_ = fa.get_eigenvalues()\n",
    "plt.scatter(range(1,X.shape[1]+1),ev)\n",
    "plt.plot(range(1,X.shape[1]+1),ev)\n",
    "plt.title('Scree Plot')\n",
    "plt.xlabel('Factors')\n",
    "plt.ylabel('Eigen Value')\n",
    "plt.grid()"
   ]
  },
  {
   "cell_type": "markdown",
   "id": "decimal-romantic",
   "metadata": {},
   "source": [
    "Values close to -1 or 1 indicate that the factor has an influence on these variables. "
   ]
  },
  {
   "cell_type": "code",
   "execution_count": 38,
   "id": "instant-submission",
   "metadata": {},
   "outputs": [
    {
     "data": {
      "text/html": [
       "<div>\n",
       "<style scoped>\n",
       "    .dataframe tbody tr th:only-of-type {\n",
       "        vertical-align: middle;\n",
       "    }\n",
       "\n",
       "    .dataframe tbody tr th {\n",
       "        vertical-align: top;\n",
       "    }\n",
       "\n",
       "    .dataframe thead th {\n",
       "        text-align: right;\n",
       "    }\n",
       "</style>\n",
       "<table border=\"1\" class=\"dataframe\">\n",
       "  <thead>\n",
       "    <tr style=\"text-align: right;\">\n",
       "      <th></th>\n",
       "      <th>0</th>\n",
       "      <th>1</th>\n",
       "      <th>2</th>\n",
       "    </tr>\n",
       "  </thead>\n",
       "  <tbody>\n",
       "    <tr>\n",
       "      <th>F_num_impr</th>\n",
       "      <td>0.987729</td>\n",
       "      <td>-0.018932</td>\n",
       "      <td>-0.048173</td>\n",
       "    </tr>\n",
       "    <tr>\n",
       "      <th>G_num_impr</th>\n",
       "      <td>0.989783</td>\n",
       "      <td>-0.014467</td>\n",
       "      <td>-0.052033</td>\n",
       "    </tr>\n",
       "    <tr>\n",
       "      <th>I_num_impr</th>\n",
       "      <td>0.959159</td>\n",
       "      <td>-0.007875</td>\n",
       "      <td>0.023001</td>\n",
       "    </tr>\n",
       "    <tr>\n",
       "      <th>M_num_impr</th>\n",
       "      <td>0.984143</td>\n",
       "      <td>-0.031257</td>\n",
       "      <td>-0.070140</td>\n",
       "    </tr>\n",
       "    <tr>\n",
       "      <th>N_num_impr</th>\n",
       "      <td>0.984619</td>\n",
       "      <td>-0.004384</td>\n",
       "      <td>-0.026007</td>\n",
       "    </tr>\n",
       "    <tr>\n",
       "      <th>tot_dip</th>\n",
       "      <td>0.917154</td>\n",
       "      <td>-0.049071</td>\n",
       "      <td>-0.094375</td>\n",
       "    </tr>\n",
       "    <tr>\n",
       "      <th>COD_PRO</th>\n",
       "      <td>-0.026316</td>\n",
       "      <td>0.998301</td>\n",
       "      <td>0.013900</td>\n",
       "    </tr>\n",
       "    <tr>\n",
       "      <th>PRO_COM</th>\n",
       "      <td>-0.026252</td>\n",
       "      <td>0.998302</td>\n",
       "      <td>0.014003</td>\n",
       "    </tr>\n",
       "    <tr>\n",
       "      <th>MEDIA</th>\n",
       "      <td>-0.130998</td>\n",
       "      <td>0.008490</td>\n",
       "      <td>0.930617</td>\n",
       "    </tr>\n",
       "    <tr>\n",
       "      <th>STD</th>\n",
       "      <td>0.018530</td>\n",
       "      <td>0.016815</td>\n",
       "      <td>0.876755</td>\n",
       "    </tr>\n",
       "  </tbody>\n",
       "</table>\n",
       "</div>"
      ],
      "text/plain": [
       "                   0         1         2\n",
       "F_num_impr  0.987729 -0.018932 -0.048173\n",
       "G_num_impr  0.989783 -0.014467 -0.052033\n",
       "I_num_impr  0.959159 -0.007875  0.023001\n",
       "M_num_impr  0.984143 -0.031257 -0.070140\n",
       "N_num_impr  0.984619 -0.004384 -0.026007\n",
       "tot_dip     0.917154 -0.049071 -0.094375\n",
       "COD_PRO    -0.026316  0.998301  0.013900\n",
       "PRO_COM    -0.026252  0.998302  0.014003\n",
       "MEDIA      -0.130998  0.008490  0.930617\n",
       "STD         0.018530  0.016815  0.876755"
      ]
     },
     "execution_count": 38,
     "metadata": {},
     "output_type": "execute_result"
    }
   ],
   "source": [
    "fa = FactorAnalyzer(n_factors=3,rotation='varimax')\n",
    "fa.fit(X)\n",
    "pd.DataFrame(fa.loadings_,index=X.columns).to_csv('varimax.csv')\n",
    "pd.DataFrame(fa.loadings_,index=X.columns)"
   ]
  },
  {
   "cell_type": "code",
   "execution_count": 39,
   "id": "registered-metallic",
   "metadata": {},
   "outputs": [
    {
     "data": {
      "text/plain": [
       "array([0.97828792, 0.98258797, 0.92057694, 0.97443464, 0.97016928,\n",
       "       0.85248528, 0.99749098, 0.99749213, 0.88328042, 0.76932559])"
      ]
     },
     "execution_count": 39,
     "metadata": {},
     "output_type": "execute_result"
    }
   ],
   "source": [
    "fa.get_communalities()"
   ]
  },
  {
   "cell_type": "code",
   "execution_count": 40,
   "id": "viral-treasury",
   "metadata": {},
   "outputs": [
    {
     "data": {
      "text/plain": [
       "Index(['F_num_impr', 'G_num_impr', 'I_num_impr', 'M_num_impr', 'N_num_impr',\n",
       "       'tot_dip', 'COD_PRO', 'PRO_COM', 'MEDIA', 'STD'],\n",
       "      dtype='object')"
      ]
     },
     "execution_count": 40,
     "metadata": {},
     "output_type": "execute_result"
    }
   ],
   "source": [
    "X.columns"
   ]
  },
  {
   "cell_type": "code",
   "execution_count": 41,
   "id": "hawaiian-remove",
   "metadata": {},
   "outputs": [],
   "source": [
    "factor1 = X[['F_num_impr', 'G_num_impr', 'I_num_impr', 'M_num_impr', 'N_num_impr',\n",
    "       'tot_dip']]\n",
    "factor2 = X[['COD_PRO', 'PRO_COM']]\n",
    "factor3 = X [[ 'MEDIA', 'STD']]"
   ]
  },
  {
   "cell_type": "code",
   "execution_count": 42,
   "id": "perceived-thomas",
   "metadata": {},
   "outputs": [
    {
     "name": "stderr",
     "output_type": "stream",
     "text": [
      "/home/selihadji/.virtualenvs/sorter/lib/python3.6/site-packages/outdated/utils.py:18: OutdatedPackageWarning: The package pingouin is out of date. Your version is 0.3.10, the latest is 0.5.2.\n",
      "Set the environment variable OUTDATED_IGNORE=1 to disable these warnings.\n",
      "  **kwargs\n"
     ]
    }
   ],
   "source": [
    "import pingouin as pg"
   ]
  },
  {
   "cell_type": "code",
   "execution_count": 43,
   "id": "governmental-network",
   "metadata": {},
   "outputs": [
    {
     "name": "stdout",
     "output_type": "stream",
     "text": [
      "(0.3106576693275791, array([0.11 , 0.479])) (0.003992158822913261, array([-0.407,  0.295])) (0.658051360261531, array([0.517, 0.758]))\n"
     ]
    }
   ],
   "source": [
    "factor1_alpha = pg.cronbach_alpha(factor1)\n",
    "factor2_alpha = pg.cronbach_alpha(factor2)\n",
    "factor3_alpha = pg.cronbach_alpha(factor3)\n",
    "print(factor1_alpha, factor2_alpha, factor3_alpha)"
   ]
  },
  {
   "cell_type": "code",
   "execution_count": 44,
   "id": "aboriginal-foster",
   "metadata": {},
   "outputs": [
    {
     "data": {
      "text/html": [
       "<div>\n",
       "<style scoped>\n",
       "    .dataframe tbody tr th:only-of-type {\n",
       "        vertical-align: middle;\n",
       "    }\n",
       "\n",
       "    .dataframe tbody tr th {\n",
       "        vertical-align: top;\n",
       "    }\n",
       "\n",
       "    .dataframe thead th {\n",
       "        text-align: right;\n",
       "    }\n",
       "</style>\n",
       "<table border=\"1\" class=\"dataframe\">\n",
       "  <thead>\n",
       "    <tr style=\"text-align: right;\">\n",
       "      <th></th>\n",
       "      <th>Industrial_structure</th>\n",
       "      <th>Administrative_characteristics</th>\n",
       "      <th>Physical characteristics</th>\n",
       "    </tr>\n",
       "    <tr>\n",
       "      <th>Comune</th>\n",
       "      <th></th>\n",
       "      <th></th>\n",
       "      <th></th>\n",
       "    </tr>\n",
       "  </thead>\n",
       "  <tbody>\n",
       "    <tr>\n",
       "      <th>accumoli</th>\n",
       "      <td>-0.251398</td>\n",
       "      <td>0.021872</td>\n",
       "      <td>1.303075</td>\n",
       "    </tr>\n",
       "    <tr>\n",
       "      <th>acquacanina</th>\n",
       "      <td>-0.466517</td>\n",
       "      <td>-2.358466</td>\n",
       "      <td>-1.653087</td>\n",
       "    </tr>\n",
       "    <tr>\n",
       "      <th>acquasanta terme</th>\n",
       "      <td>-0.137398</td>\n",
       "      <td>-0.518686</td>\n",
       "      <td>0.739839</td>\n",
       "    </tr>\n",
       "    <tr>\n",
       "      <th>amandola</th>\n",
       "      <td>-0.061585</td>\n",
       "      <td>2.252926</td>\n",
       "      <td>0.055359</td>\n",
       "    </tr>\n",
       "    <tr>\n",
       "      <th>amatrice</th>\n",
       "      <td>0.015157</td>\n",
       "      <td>0.024995</td>\n",
       "      <td>1.672674</td>\n",
       "    </tr>\n",
       "    <tr>\n",
       "      <th>...</th>\n",
       "      <td>...</td>\n",
       "      <td>...</td>\n",
       "      <td>...</td>\n",
       "    </tr>\n",
       "    <tr>\n",
       "      <th>ussita</th>\n",
       "      <td>-0.272330</td>\n",
       "      <td>-0.575538</td>\n",
       "      <td>1.761041</td>\n",
       "    </tr>\n",
       "    <tr>\n",
       "      <th>valle castellana</th>\n",
       "      <td>-0.261649</td>\n",
       "      <td>0.449935</td>\n",
       "      <td>1.348087</td>\n",
       "    </tr>\n",
       "    <tr>\n",
       "      <th>vallo di nera</th>\n",
       "      <td>-0.344044</td>\n",
       "      <td>-0.091452</td>\n",
       "      <td>0.456228</td>\n",
       "    </tr>\n",
       "    <tr>\n",
       "      <th>venarotta</th>\n",
       "      <td>-0.388227</td>\n",
       "      <td>-0.500998</td>\n",
       "      <td>-0.593951</td>\n",
       "    </tr>\n",
       "    <tr>\n",
       "      <th>visso</th>\n",
       "      <td>-0.248340</td>\n",
       "      <td>-0.563832</td>\n",
       "      <td>0.838345</td>\n",
       "    </tr>\n",
       "  </tbody>\n",
       "</table>\n",
       "<p>131 rows × 3 columns</p>\n",
       "</div>"
      ],
      "text/plain": [
       "                  Industrial_structure  Administrative_characteristics  \\\n",
       "Comune                                                                   \n",
       "accumoli                     -0.251398                        0.021872   \n",
       "acquacanina                  -0.466517                       -2.358466   \n",
       "acquasanta terme             -0.137398                       -0.518686   \n",
       "amandola                     -0.061585                        2.252926   \n",
       "amatrice                      0.015157                        0.024995   \n",
       "...                                ...                             ...   \n",
       "ussita                       -0.272330                       -0.575538   \n",
       "valle castellana             -0.261649                        0.449935   \n",
       "vallo di nera                -0.344044                       -0.091452   \n",
       "venarotta                    -0.388227                       -0.500998   \n",
       "visso                        -0.248340                       -0.563832   \n",
       "\n",
       "                  Physical characteristics  \n",
       "Comune                                      \n",
       "accumoli                          1.303075  \n",
       "acquacanina                      -1.653087  \n",
       "acquasanta terme                  0.739839  \n",
       "amandola                          0.055359  \n",
       "amatrice                          1.672674  \n",
       "...                                    ...  \n",
       "ussita                            1.761041  \n",
       "valle castellana                  1.348087  \n",
       "vallo di nera                     0.456228  \n",
       "venarotta                        -0.593951  \n",
       "visso                             0.838345  \n",
       "\n",
       "[131 rows x 3 columns]"
      ]
     },
     "execution_count": 44,
     "metadata": {},
     "output_type": "execute_result"
    }
   ],
   "source": [
    "new_var = pd.DataFrame(fa.fit_transform(X), columns=['Industrial_structure', 'Administrative_characteristics','Physical characteristics'], index=dataset3.Comune)\n",
    "new_var"
   ]
  },
  {
   "cell_type": "code",
   "execution_count": 45,
   "id": "noticed-cigarette",
   "metadata": {},
   "outputs": [],
   "source": [
    "from sklearn.cluster import KMeans\n",
    "from sklearn.cluster import AffinityPropagation\n",
    "from sklearn.cluster import AgglomerativeClustering"
   ]
  },
  {
   "cell_type": "code",
   "execution_count": 67,
   "id": "chicken-analyst",
   "metadata": {},
   "outputs": [
    {
     "data": {
      "text/plain": [
       "array([0, 1, 2])"
      ]
     },
     "execution_count": 67,
     "metadata": {},
     "output_type": "execute_result"
    }
   ],
   "source": [
    "#model = KMeans(n_clusters=3)\n",
    "#model = AffinityPropagation(damping=0.5)\n",
    "model = AgglomerativeClustering(n_clusters=3)\n",
    "yhat = model.fit_predict(new_var)\n",
    "# retrieve unique clusters\n",
    "clusters = np.unique(yhat)\n",
    "clusters"
   ]
  },
  {
   "cell_type": "code",
   "execution_count": 68,
   "id": "accomplished-campaign",
   "metadata": {},
   "outputs": [],
   "source": [
    "new_var['cluster'] = yhat"
   ]
  },
  {
   "cell_type": "code",
   "execution_count": 69,
   "id": "prescription-billion",
   "metadata": {},
   "outputs": [],
   "source": [
    "new_var['target'] = y.values"
   ]
  },
  {
   "cell_type": "code",
   "execution_count": 70,
   "id": "corresponding-target",
   "metadata": {},
   "outputs": [],
   "source": [
    "new_var[new_var.cluster == 0] =3"
   ]
  },
  {
   "cell_type": "code",
   "execution_count": 71,
   "id": "intellectual-slovakia",
   "metadata": {},
   "outputs": [],
   "source": [
    "new_var_ = new_var.reset_index()"
   ]
  },
  {
   "cell_type": "code",
   "execution_count": 72,
   "id": "owned-comparative",
   "metadata": {},
   "outputs": [
    {
     "data": {
      "text/html": [
       "<div>\n",
       "<style scoped>\n",
       "    .dataframe tbody tr th:only-of-type {\n",
       "        vertical-align: middle;\n",
       "    }\n",
       "\n",
       "    .dataframe tbody tr th {\n",
       "        vertical-align: top;\n",
       "    }\n",
       "\n",
       "    .dataframe thead tr th {\n",
       "        text-align: left;\n",
       "    }\n",
       "\n",
       "    .dataframe thead tr:last-of-type th {\n",
       "        text-align: right;\n",
       "    }\n",
       "</style>\n",
       "<table border=\"1\" class=\"dataframe\">\n",
       "  <thead>\n",
       "    <tr>\n",
       "      <th></th>\n",
       "      <th colspan=\"8\" halign=\"left\">target</th>\n",
       "    </tr>\n",
       "    <tr>\n",
       "      <th></th>\n",
       "      <th>count</th>\n",
       "      <th>mean</th>\n",
       "      <th>std</th>\n",
       "      <th>min</th>\n",
       "      <th>25%</th>\n",
       "      <th>50%</th>\n",
       "      <th>75%</th>\n",
       "      <th>max</th>\n",
       "    </tr>\n",
       "    <tr>\n",
       "      <th>cluster</th>\n",
       "      <th></th>\n",
       "      <th></th>\n",
       "      <th></th>\n",
       "      <th></th>\n",
       "      <th></th>\n",
       "      <th></th>\n",
       "      <th></th>\n",
       "      <th></th>\n",
       "    </tr>\n",
       "  </thead>\n",
       "  <tbody>\n",
       "    <tr>\n",
       "      <th>1</th>\n",
       "      <td>113.0</td>\n",
       "      <td>11.064315</td>\n",
       "      <td>8.255129</td>\n",
       "      <td>0.266681</td>\n",
       "      <td>4.378298</td>\n",
       "      <td>9.220277</td>\n",
       "      <td>16.034099</td>\n",
       "      <td>41.739060</td>\n",
       "    </tr>\n",
       "    <tr>\n",
       "      <th>2</th>\n",
       "      <td>15.0</td>\n",
       "      <td>35.109574</td>\n",
       "      <td>7.032374</td>\n",
       "      <td>26.816236</td>\n",
       "      <td>29.504240</td>\n",
       "      <td>34.630117</td>\n",
       "      <td>39.164176</td>\n",
       "      <td>50.164385</td>\n",
       "    </tr>\n",
       "    <tr>\n",
       "      <th>3</th>\n",
       "      <td>3.0</td>\n",
       "      <td>3.000000</td>\n",
       "      <td>0.000000</td>\n",
       "      <td>3.000000</td>\n",
       "      <td>3.000000</td>\n",
       "      <td>3.000000</td>\n",
       "      <td>3.000000</td>\n",
       "      <td>3.000000</td>\n",
       "    </tr>\n",
       "  </tbody>\n",
       "</table>\n",
       "</div>"
      ],
      "text/plain": [
       "        target                                                        \\\n",
       "         count       mean       std        min        25%        50%   \n",
       "cluster                                                                \n",
       "1        113.0  11.064315  8.255129   0.266681   4.378298   9.220277   \n",
       "2         15.0  35.109574  7.032374  26.816236  29.504240  34.630117   \n",
       "3          3.0   3.000000  0.000000   3.000000   3.000000   3.000000   \n",
       "\n",
       "                               \n",
       "               75%        max  \n",
       "cluster                        \n",
       "1        16.034099  41.739060  \n",
       "2        39.164176  50.164385  \n",
       "3         3.000000   3.000000  "
      ]
     },
     "execution_count": 72,
     "metadata": {},
     "output_type": "execute_result"
    }
   ],
   "source": [
    "new_var_[['cluster', 'target']].groupby('cluster').describe()"
   ]
  },
  {
   "cell_type": "code",
   "execution_count": 73,
   "id": "satisfied-timber",
   "metadata": {},
   "outputs": [],
   "source": [
    "import geopandas as gpd"
   ]
  },
  {
   "cell_type": "code",
   "execution_count": 74,
   "id": "loaded-memorabilia",
   "metadata": {},
   "outputs": [],
   "source": [
    "map = gpd.read_file('/home/selihadji/Documenti/papers/terremoti/EARTHQUAKE/shp/Comuni2016/comuni2016.shp')\n",
    "map['COMUNE'] = map['COMUNE'].str.lower()"
   ]
  },
  {
   "cell_type": "code",
   "execution_count": 75,
   "id": "incorporated-meaning",
   "metadata": {},
   "outputs": [],
   "source": [
    "#new_var_.to_csv('/home/selihadji/Scrivania/prova.csv')"
   ]
  },
  {
   "cell_type": "code",
   "execution_count": 76,
   "id": "equivalent-prediction",
   "metadata": {},
   "outputs": [],
   "source": [
    "#map.sort_values(by='COMUNE').to_csv('/home/selihadji/Scrivania/prova2.csv')"
   ]
  },
  {
   "cell_type": "code",
   "execution_count": 77,
   "id": "uniform-pastor",
   "metadata": {},
   "outputs": [
    {
     "data": {
      "text/html": [
       "<div>\n",
       "<style scoped>\n",
       "    .dataframe tbody tr th:only-of-type {\n",
       "        vertical-align: middle;\n",
       "    }\n",
       "\n",
       "    .dataframe tbody tr th {\n",
       "        vertical-align: top;\n",
       "    }\n",
       "\n",
       "    .dataframe thead th {\n",
       "        text-align: right;\n",
       "    }\n",
       "</style>\n",
       "<table border=\"1\" class=\"dataframe\">\n",
       "  <thead>\n",
       "    <tr style=\"text-align: right;\">\n",
       "      <th></th>\n",
       "      <th>COD_RIP</th>\n",
       "      <th>COD_REG</th>\n",
       "      <th>COD_PROV</th>\n",
       "      <th>COD_CM</th>\n",
       "      <th>COD_PCM</th>\n",
       "      <th>PRO_COM</th>\n",
       "      <th>PRO_COM_T</th>\n",
       "      <th>COMUNE</th>\n",
       "      <th>COMUNE_A</th>\n",
       "      <th>CC_P_CM</th>\n",
       "      <th>Shape_Leng</th>\n",
       "      <th>Shape_Area</th>\n",
       "      <th>geometry</th>\n",
       "    </tr>\n",
       "  </thead>\n",
       "  <tbody>\n",
       "    <tr>\n",
       "      <th>5177</th>\n",
       "      <td>3</td>\n",
       "      <td>11</td>\n",
       "      <td>43</td>\n",
       "      <td>0</td>\n",
       "      <td>43</td>\n",
       "      <td>43037</td>\n",
       "      <td>043037</td>\n",
       "      <td>pievebovigliana</td>\n",
       "      <td>None</td>\n",
       "      <td>0</td>\n",
       "      <td>39691.3715</td>\n",
       "      <td>2.721461e+07</td>\n",
       "      <td>MULTIPOLYGON (((13.11880 43.08928, 13.11925 43...</td>\n",
       "    </tr>\n",
       "  </tbody>\n",
       "</table>\n",
       "</div>"
      ],
      "text/plain": [
       "      COD_RIP  COD_REG  COD_PROV  COD_CM  COD_PCM  PRO_COM PRO_COM_T  \\\n",
       "5177        3       11        43       0       43    43037    043037   \n",
       "\n",
       "               COMUNE COMUNE_A  CC_P_CM  Shape_Leng    Shape_Area  \\\n",
       "5177  pievebovigliana     None        0  39691.3715  2.721461e+07   \n",
       "\n",
       "                                               geometry  \n",
       "5177  MULTIPOLYGON (((13.11880 43.08928, 13.11925 43...  "
      ]
     },
     "execution_count": 77,
     "metadata": {},
     "output_type": "execute_result"
    }
   ],
   "source": [
    "map[map['COMUNE'] == 'pievebovigliana']"
   ]
  },
  {
   "cell_type": "code",
   "execution_count": 82,
   "id": "adult-encounter",
   "metadata": {},
   "outputs": [],
   "source": [
    "plt.rcParams[\"figure.figsize\"] = (10, 10)"
   ]
  },
  {
   "cell_type": "code",
   "execution_count": 83,
   "id": "vocal-algebra",
   "metadata": {},
   "outputs": [
    {
     "data": {
      "text/plain": [
       "<AxesSubplot:>"
      ]
     },
     "execution_count": 83,
     "metadata": {},
     "output_type": "execute_result"
    },
    {
     "data": {
      "image/png": "[encoded data removed]",
      "text/plain": [
       "<Figure size 720x720 with 1 Axes>"
      ]
     },
     "metadata": {
      "needs_background": "light"
     },
     "output_type": "display_data"
    }
   ],
   "source": [
    "new_var_.columns = ['COMUNE','Industrial_structure','Administrative_characteristics','Physical_characteristics','cluster','target']\n",
    "map = map.merge(new_var_,how='right')\n",
    "map.plot(column='cluster')\n",
    "#ax.set_ylim(41.8, 44)\n",
    "#ax.set_xlim(11, 15)"
   ]
  },
  {
   "cell_type": "code",
   "execution_count": null,
   "id": "surrounded-caribbean",
   "metadata": {},
   "outputs": [],
   "source": [
    "%matplotlib notebook\n",
    "\n",
    "import matplotlib.pyplot as plt\n",
    "from mpl_toolkits.mplot3d import axes3d "
   ]
  },
  {
   "cell_type": "code",
   "execution_count": null,
   "id": "charitable-indiana",
   "metadata": {},
   "outputs": [],
   "source": [
    "from mpl_toolkits.mplot3d import Axes3D\n",
    "from mpl_toolkits.mplot3d import proj3d\n",
    "import matplotlib.pyplot as plt\n",
    "\n",
    "import pylab\n",
    "\n",
    "\n",
    "fig = plt.figure(figsize=(10, 10))\n",
    "ax = plt.axes(projection='3d')\n",
    "sctt = ax.scatter3D(new_var_['Administrative_characteristics'], new_var_['Industrial_structure'], new_var_['Physical characteristics'], c=new_var_['cluster'], s=new_var_['target'])\n",
    "ax.set_xlabel('Administrative_characteristics')\n",
    "ax.set_ylabel('Industrial structure')\n",
    "ax.set_zlabel('Physical characteristics')\n",
    "#ax.text(new_var_[new_var_['Comune'] == 'castelsantangelo sul nera']['Reconstruction'].values, new_var_[new_var_['Comune'] == 'castelsantangelo sul nera']['Physical characteristics'].values, new_var_[new_var_['Comune'] == 'castelsantangelo sul nera']['Industrial_structure'].values, '%s' % ('Castelsantangelo sul Nera'), size=20, zorder=1, color='k')\n",
    "#ax.text(new_var_[new_var_['Comune'] =='accumoli']['Physical characteristics'][0],new_var_[new_var_['Comune'] =='accumoli']['Reconstruction'][0],new_var_[new_var_['Comune'] =='accumoli']['Industrial_structure'][0],  '%s' % (str('Accumoli')), size=12, zorder=10,color='k') \n",
    "#ax.text(new_var_[new_var_['Comune'] =='camerino']['Physical characteristics'][15],new_var_[new_var_['Comune'] =='camerino']['Reconstruction'][15],new_var_[new_var_['Comune'] =='camerino']['Industrial_structure'][15],  '%s' % (str('Camerino')), size=12, zorder=10, color='k') \n",
    "#ax.text(new_var_[new_var_['Comune'] =='amatrice']['Physical characteristics'][3],new_var_[new_var_['Comune'] =='amatrice']['Reconstruction'][3],new_var_[new_var_['Comune'] =='amatrice']['Industrial_structure'][3],  '%s' % (str('Amatrice')), size=12, zorder=10, color='k') \n",
    "#ax.text(new_var_[new_var_['Comune'] =='norcia']['Physical characteristics'][80],new_var_[new_var_['Comune'] =='norcia']['Reconstruction'][80],new_var_[new_var_['Comune'] =='norcia']['Industrial_structure'][80],  '%s' % (str('Norcia')), size=12, zorder=10, color='k') \n",
    "#ax.text(new_var_[new_var_['Comune'] =='sellano']['Physical characteristics'][108],new_var_[new_var_['Comune'] =='sellano']['Reconstruction'][108],new_var_[new_var_['Comune'] =='sellano']['Industrial_structure'][108],  '%s' % (str('Sellano')),  size=12, zorder=10, color='k') \n",
    "#fig.colorbar(sctt, ax = ax, shrink = 0.5, aspect = 5)\n",
    "#ax.text(new_var_[new_var_['Comune'] =='sellano']['Physical characteristics'][108],new_var_[new_var_['Comune'] =='sellano']['Reconstruction'][108],new_var_[new_var_['Comune'] =='sellano']['Industrial_structure'][108], \"Sellano\", ha=\"center\", va=\"center\", rotation=45, size=8, bbox=dict(boxstyle=\"rarrow,pad=0.1\", fc=\"w\", ec=\"b\", lw=1))\n",
    "#ax.set_zlim3d(-4,2)\n",
    "#ax.set_xlim3d(-2,4.5)\n",
    "#ax.set_zlim3d(-2,2)\n",
    "plt.show()\n",
    "plt.savefig('3d.png')"
   ]
  },
  {
   "cell_type": "markdown",
   "id": "cooperative-brazil",
   "metadata": {},
   "source": [
    "## SVM"
   ]
  },
  {
   "cell_type": "code",
   "execution_count": null,
   "id": "bizarre-centre",
   "metadata": {},
   "outputs": [],
   "source": [
    "from sklearn.model_selection import train_test_split # for splitting the data\n",
    "from sklearn.metrics import mean_squared_error # for calculating the cost function\n",
    "from sklearn.ensemble import RandomForestRegressor # for building the model"
   ]
  },
  {
   "cell_type": "markdown",
   "id": "inside-legislature",
   "metadata": {},
   "source": [
    "### Features Selection"
   ]
  },
  {
   "cell_type": "code",
   "execution_count": null,
   "id": "golden-lending",
   "metadata": {},
   "outputs": [],
   "source": [
    "from sklearn.ensemble import RandomForestRegressor\n",
    "from sklearn.svm import SVR"
   ]
  },
  {
   "cell_type": "code",
   "execution_count": null,
   "id": "automated-international",
   "metadata": {},
   "outputs": [],
   "source": [
    "svr_rbf = SVR(kernel=\"rbf\", C=200, gamma=0.01, epsilon=0.2)\n",
    "svr_lin = SVR(kernel=\"linear\", C=100, gamma=\"auto\")\n",
    "svr_poly = SVR(kernel=\"poly\", C=1000, gamma=\"auto\", degree=3, epsilon=0.1, coef0=1)"
   ]
  },
  {
   "cell_type": "code",
   "execution_count": null,
   "id": "isolated-generator",
   "metadata": {},
   "outputs": [],
   "source": [
    "X = new_var.reset_index()[['Administrative_characteristics','Physical characteristics', 'Industrial_structure']]\n",
    "y = new_var['target']"
   ]
  },
  {
   "cell_type": "code",
   "execution_count": null,
   "id": "floral-miller",
   "metadata": {},
   "outputs": [],
   "source": [
    "X_train, X_test, y_train, y_test = train_test_split(X, y, test_size=0.2, random_state=42)"
   ]
  },
  {
   "cell_type": "code",
   "execution_count": null,
   "id": "ordered-acquisition",
   "metadata": {},
   "outputs": [],
   "source": [
    "svr_rbf.fit(X_train, y_train)\n"
   ]
  },
  {
   "cell_type": "code",
   "execution_count": null,
   "id": "great-conversion",
   "metadata": {},
   "outputs": [],
   "source": [
    "y_pred = svr_rbf.predict(X_test)\n",
    "rmse = float(format(np.sqrt(mean_squared_error(y_pred, y_test)), '.3f'))\n",
    "print(\"\\nRMSE: \", rmse)"
   ]
  },
  {
   "cell_type": "code",
   "execution_count": null,
   "id": "suitable-concord",
   "metadata": {},
   "outputs": [],
   "source": [
    "pred = pd.DataFrame(y_pred, columns = ['pred'])\n",
    "pd.concat([y_test.reset_index(drop=True), pred], axis=1).plot.bar(rot=0)"
   ]
  },
  {
   "cell_type": "code",
   "execution_count": null,
   "id": "searching-worse",
   "metadata": {},
   "outputs": [],
   "source": []
  }
 ],
 "metadata": {
  "kernelspec": {
   "display_name": "Python 3 (ipykernel)",
   "language": "python",
   "name": "python3"
  },
  "language_info": {
   "codemirror_mode": {
    "name": "ipython",
    "version": 3
   },
   "file_extension": ".py",
   "mimetype": "text/x-python",
   "name": "python",
   "nbconvert_exporter": "python",
   "pygments_lexer": "ipython3",
   "version": "3.9.7"
  }
 },
 "nbformat": 4,
 "nbformat_minor": 5
}
